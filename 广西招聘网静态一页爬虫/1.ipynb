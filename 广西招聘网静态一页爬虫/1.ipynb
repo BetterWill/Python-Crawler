import requests
import re
import sys

header = {'User-Agent': 'Mozilla/5.0 (Windows NT 10.0; Win64; x64; rv:70.0) Gecko/20100101 Firefox/70.0'}
url ='https://s.gxrc.com/sJob?keyword=%E8%BD%AF%E4%BB%B6%E5%B7%A5%E7%A8%8B%E5%B8%88&page=1'
doc = open('D:/pagecontent.txt','w',encoding = 'utf-8')
print(response.text, file = doc)
doc.close()
pattern = '<a href="//(.*?)" target="_blank" class="posName">(.*?)<span class ="highlight">(.*?)</span></a>'
response = requests.get(url, headers=header)
response.encoding = 'utf-8'
result = re.findall(string=response.text,pattern=pattern)#如果没有flags=re.S，换行就不找了
# doc = open('D:/result.txt','w',encoding = 'utf-8')
# print(result, file = doc)
# doc.close()
for i in result:
    print(i[0],i[1],i[2])            #a 追加,as:引用
    with open('D:/result.txt', 'a')as w:
        w.write(i[0]+' '+i[1]+i[2]+'\n')

#payload = {'page': '1', 'page': '2'}
#r = requests.get("https://s.gxrc.com/sJob?keyword=%E8%BD%AF%E4%BB%B6%E5%B7%A5%E7%A8%8B%E5%B8%88", params=payload)
#r.text 读取服务器内容
#print('编码类型为：%s'%r.encoding)
# r.content 读取二进制内容
